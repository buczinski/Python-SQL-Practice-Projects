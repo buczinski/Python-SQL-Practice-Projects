{
 "cells": [
  {
   "cell_type": "markdown",
   "id": "7c0d155c-27e6-4a08-a509-b1d1a9bde901",
   "metadata": {},
   "source": [
    "# Supplement Experiments\n",
    "\n",
    "1001-Experiments makes personalized supplements tailored to individual health needs.\n",
    "\n",
    "1001-Experiments aims to enhance personal health by using data from wearable devices and health apps.\n",
    "\n",
    "This data, combined with user feedback and habits, is used to analyze and refine the effectiveness of the supplements provided to the user through multiple small experiments.\n",
    "\n",
    "The data engineering team at 1001-Experiments plays a crucial role in ensuring the collected health and activity data from thousands of users is accurately organized and integrated with the data from supplement usage. \n",
    "\n",
    "This integration helps 1001-Experiments provide more targeted health and wellness recommendations and improve supplement formulations."
   ]
  },
  {
   "cell_type": "markdown",
   "id": "f70773d5-4944-40cd-b323-6a4a6952b602",
   "metadata": {},
   "source": [
    "\n",
    "## Task\n",
    "\n",
    "1001-Experiments currently has the following four datasets with four months of data:\n",
    " - \"user_health_data.csv\" which logs daily health metrics, habits and data from wearable devices,\n",
    " - \"supplement_usage.csv\" which records details on supplement intake per user,\n",
    " - \"experiments.csv\" which contains metadata on experiments, and\n",
    " - \"user_profiles.csv\" which contains demographic and contact information of the users.\n",
    "\n",
    "Each dataset contains unique identifiers for users and/or their supplement regimen.\n",
    "\n",
    "The developers and data scientsits currently manage code that cross-references all of these data sources separately, which is cumbersome and error-prone.\n",
    "\n",
    "Your manager has asked you to write a Python function that cleans and merges these datasets into a single dataset.\n",
    "\n",
    "The final dataset should provide a comprehensive view of each user's health metrics, supplement usage, and demographic information.\n",
    "\n",
    "- To test your code, your manager will run only the code `merge_all_data('user_health_data.csv', 'supplement_usage.csv', 'experiments.csv', 'user_profiles.csv')`\n",
    "- Your `merge_all_data` function must return a DataFrame, with columns as described below.\n",
    "- All columns must accurately match the descriptions provided below, including names.\n"
   ]
  },
  {
   "cell_type": "markdown",
   "id": "1c04a3f0-7613-4430-8eac-e76d855d80af",
   "metadata": {},
   "source": [
    "## Data\n",
    "\n",
    "The provided data is structured as follows:\n",
    "\n",
    "![database schema](schema.png)\n",
    "\n",
    "The function you write should return data as described below.\n",
    "\n",
    "There should be a unique row for each daily entry combining health metrics and supplement usage.\n",
    "\n",
    "Where missing values are permitted, they should be in the default Python format unless stated otherwise.\n",
    "\n",
    "| Column Name        | Description |\n",
    "|--------------------|-------------|\n",
    "| user_id            | Unique identifier for each user. </br>There should not be any missing values. |\n",
    "| date               | The date the health data was recorded or the supplement was taken, in date format. </br>There should not be any missing values. |\n",
    "| email              | Contact email of the user. </br>There should not be any missing values. |\n",
    "| user_age_group  | The age group of the user, one of: 'Under 18', '18-25', '26-35', '36-45', '46-55', '56-65', 'Over 65' or 'Unknown' where the age is missing.|\n",
    "| experiment_name    | Name of the experiment associated with the supplement usage. </br>Missing values for users that have user health data only is permitted. |\n",
    "| supplement_name    | The name of the supplement taken on that day. Multiple entries are permitted. </br>Days without supplement intake should be encoded as 'No intake'. |\n",
    "| dosage_grams       | The dosage of the supplement taken in grams. Where the dosage is recorded in mg it should be converted by division by 1000.</br>Missing values for days without supplement intake are permitted. |\n",
    "| is_placebo         | Indicator if the supplement was a placebo (true/false). </br>Missing values for days without supplement intake are permitted. |\n",
    "| average_heart_rate | Average heart rate as recorded by the wearable device. </br>Missing values are permitted. |\n",
    "| average_glucose    | Average glucose levels as recorded on the wearable device. </br>Missing values are permitted. |\n",
    "| sleep_hours        | Total sleep in hours for the night preceding the current day’s log. </br>Missing values are permitted. |\n",
    "| activity_level     | Activity level score between 0-100. </br>Missing values are permitted. |"
   ]
  },
  {
   "cell_type": "code",
   "execution_count": 120,
   "id": "68ffc0b1-c2af-4376-a2d2-83f7fed7162b",
   "metadata": {
    "executionCancelledAt": null,
    "executionTime": 50,
    "lastExecutedAt": 1751647867102,
    "lastExecutedByKernel": "5b825164-58d6-4ebb-8125-bbab2aef8b36",
    "lastScheduledRunId": null,
    "lastSuccessfullyExecutedCode": "# Use as many python cells as you wish to write your code"
   },
   "outputs": [],
   "source": [
    "# Use as many python cells as you wish to write your code"
   ]
  },
  {
   "cell_type": "code",
   "execution_count": 121,
   "id": "8f012ad5-33b9-414f-bbdc-5433446685bd",
   "metadata": {
    "executionCancelledAt": null,
    "executionTime": 47,
    "lastExecutedAt": 1751647867150,
    "lastExecutedByKernel": "5b825164-58d6-4ebb-8125-bbab2aef8b36",
    "lastScheduledRunId": null,
    "lastSuccessfullyExecutedCode": "import pandas as pd\nimport numpy as np"
   },
   "outputs": [],
   "source": [
    "import pandas as pd\n",
    "import numpy as np"
   ]
  },
  {
   "cell_type": "code",
   "execution_count": 122,
   "id": "97643af9-4414-4723-b4b3-8282afa428ca",
   "metadata": {
    "executionCancelledAt": null,
    "executionTime": 56,
    "lastExecutedAt": 1751647867206,
    "lastExecutedByKernel": "5b825164-58d6-4ebb-8125-bbab2aef8b36",
    "lastScheduledRunId": null,
    "lastSuccessfullyExecutedCode": "# Merging the data in a single database\n\ndef merge_all_data(user_health_data_path, supplement_usage_path, experiments_path, user_profiles_path):\n\n    user_profiles = pd.read_csv(user_profiles_path)\n    user_health_data = pd.read_csv(user_health_data_path)\n    supplement_usage = pd.read_csv(supplement_usage_path)\n    experiments = pd.read_csv(experiments_path)\n\n    #Adding age categories to user_profiles and remove the 'age' column\n\n    user_profiles[\"user_age_group\"] = np.where(user_profiles['age'] < 18, 'Under 18',\n                                    np.where(user_profiles['age'] <= 25, '18-25',\n                                    np.where(user_profiles['age'] <= 35, '26-35',\n                                    np.where(user_profiles['age'] <= 45, '36-45', \n                                    np.where(user_profiles['age'] <= 55, '46-55',\n                                    np.where(user_profiles['age'] <= 65, '56-65',\n                                    np.where(user_profiles['age'] > 65, 'Over 65', 'Unknown')))))))\n\n    user_profiles.drop(columns=['age'], inplace=True)\n\n    # Converting date to datetime\n\n    user_health_data[\"date\"] = pd.to_datetime(user_health_data['date']).dt.date\n    supplement_usage[\"date\"] = pd.to_datetime(supplement_usage['date']).dt.date\n\n    # Renaming the column to experiment name\n    experiments.rename(columns={'name': 'experiment_name'}, inplace=True)\n    experiments.drop(columns=['description'], inplace=True)\n    \n    supplement_usage[\"dosage_grams\"] = supplement_usage[\"dosage\"]/1000\n    \n    supplement_usage.drop(columns=['dosage', 'dosage_unit'], inplace=True)\n\n    # Cleaning the user health data columns\n\n    user_health_data[\"sleep_hours\"] = user_health_data[\"sleep_hours\"].str.replace('h','', case=False).astype(float)\n\n    activity_map = {\n        1: 0,\n        2: 33,\n        3: 67,\n        4: 100\n        }\n    \n    user_health_data['activity_level'] = user_health_data['activity_level'].map(activity_map)\n\n    user_profile_health = user_profiles.merge(user_health_data, on=\"user_id\")\n    supplement_exp = supplement_usage.merge(experiments, on=\"experiment_id\")\n\n    dataframe = user_profile_health.merge(supplement_exp, on=[\"user_id\", \"date\"], how='left')\n    \n    dataframe.drop(columns=['experiment_id'], inplace=True)\n    dataframe[\"supplement_name\"] = dataframe[\"supplement_name\"].fillna('No intake')\n    \n    return dataframe",
    "outputsMetadata": {
     "0": {
      "height": 550,
      "tableState": {
       "customFilter": {
        "const": {
         "type": "boolean",
         "valid": true,
         "value": true
        },
        "id": "693f6f89-cb35-4786-9de8-e6b68e48a5fa",
        "nodeType": "const"
       }
      },
      "type": "dataFrame"
     }
    }
   },
   "outputs": [],
   "source": [
    "# Merging the data in a single database\n",
    "\n",
    "def merge_all_data(user_health_data_path, supplement_usage_path, experiments_path, user_profiles_path):\n",
    "\n",
    "    user_profiles = pd.read_csv(user_profiles_path)\n",
    "    user_health_data = pd.read_csv(user_health_data_path)\n",
    "    supplement_usage = pd.read_csv(supplement_usage_path)\n",
    "    experiments = pd.read_csv(experiments_path)\n",
    "\n",
    "    #Adding age categories to user_profiles and remove the 'age' column\n",
    "\n",
    "    user_profiles[\"user_age_group\"] = np.where(user_profiles['age'] < 18, 'Under 18',\n",
    "                                    np.where(user_profiles['age'] <= 25, '18-25',\n",
    "                                    np.where(user_profiles['age'] <= 35, '26-35',\n",
    "                                    np.where(user_profiles['age'] <= 45, '36-45', \n",
    "                                    np.where(user_profiles['age'] <= 55, '46-55',\n",
    "                                    np.where(user_profiles['age'] <= 65, '56-65',\n",
    "                                    np.where(user_profiles['age'] > 65, 'Over 65', 'Unknown')))))))\n",
    "\n",
    "    user_profiles.drop(columns=['age'], inplace=True)\n",
    "\n",
    "    # Converting date to datetime\n",
    "\n",
    "    user_health_data[\"date\"] = pd.to_datetime(user_health_data['date']).dt.date\n",
    "    supplement_usage[\"date\"] = pd.to_datetime(supplement_usage['date']).dt.date\n",
    "\n",
    "    # Renaming the column to experiment name\n",
    "    experiments.rename(columns={'name': 'experiment_name'}, inplace=True)\n",
    "    experiments.drop(columns=['description'], inplace=True)\n",
    "    \n",
    "    supplement_usage[\"dosage_grams\"] = supplement_usage[\"dosage\"]/1000\n",
    "    \n",
    "    supplement_usage.drop(columns=['dosage', 'dosage_unit'], inplace=True)\n",
    "\n",
    "    # Cleaning the user health data columns\n",
    "\n",
    "    user_health_data[\"sleep_hours\"] = user_health_data[\"sleep_hours\"].str.replace('h','', case=False).astype(float)\n",
    "\n",
    "    activity_map = {\n",
    "        1: 0,\n",
    "        2: 33,\n",
    "        3: 67,\n",
    "        4: 100\n",
    "        }\n",
    "    \n",
    "    user_health_data['activity_level'] = user_health_data['activity_level'].map(activity_map)\n",
    "\n",
    "    user_profile_health = user_profiles.merge(user_health_data, on=\"user_id\")\n",
    "    supplement_exp = supplement_usage.merge(experiments, on=\"experiment_id\")\n",
    "\n",
    "    dataframe = user_profile_health.merge(supplement_exp, on=[\"user_id\", \"date\"], how='left')\n",
    "    \n",
    "    dataframe.drop(columns=['experiment_id'], inplace=True)\n",
    "    dataframe[\"supplement_name\"] = dataframe[\"supplement_name\"].fillna('No intake')\n",
    "    \n",
    "    return dataframe"
   ]
  }
 ],
 "metadata": {
  "editor": "DataLab",
  "kernelspec": {
   "display_name": "Python 3 (ipykernel)",
   "language": "python",
   "name": "python3"
  },
  "language_info": {
   "codemirror_mode": {
    "name": "ipython",
    "version": 3
   },
   "file_extension": ".py",
   "mimetype": "text/x-python",
   "name": "python",
   "nbconvert_exporter": "python",
   "pygments_lexer": "ipython3",
   "version": "3.8.10"
  }
 },
 "nbformat": 4,
 "nbformat_minor": 5
}
